{
 "cells": [
  {
   "cell_type": "code",
   "execution_count": 1,
   "metadata": {},
   "outputs": [],
   "source": [
    "import pandas as pd\n",
    "import datetime"
   ]
  },
  {
   "cell_type": "code",
   "execution_count": 2,
   "metadata": {},
   "outputs": [
    {
     "data": {
      "text/plain": [
       "('24OCT2022', '24OCT2022')"
      ]
     },
     "execution_count": 2,
     "metadata": {},
     "output_type": "execute_result"
    }
   ],
   "source": [
    "# today's data and yesterday's date\n",
    "today = (datetime.datetime.today().strftime('%d%b%Y')).upper()\n",
    "yesterday = ((datetime.datetime.today() - datetime.timedelta(days=1)).strftime('%d%b%Y')).upper()\n",
    "today, yesterday"
   ]
  },
  {
   "cell_type": "code",
   "execution_count": null,
   "metadata": {},
   "outputs": [],
   "source": [
    "# #custom dates\n",
    "# today = \"24OCT2022\""
   ]
  },
  {
   "cell_type": "code",
   "execution_count": 3,
   "metadata": {},
   "outputs": [
    {
     "data": {
      "text/plain": [
       "'https://archives.nseindia.com/content/historical/DERIVATIVES/2022/OCT/fo24OCT2022bhav.csv.zip'"
      ]
     },
     "execution_count": 3,
     "metadata": {},
     "output_type": "execute_result"
    }
   ],
   "source": [
    "# source url for fetching the data from nseIndia.com\n",
    "source_url = 'https://archives.nseindia.com/content/historical/DERIVATIVES/2022/OCT/fo{}bhav.csv.zip'.format(today)  # CHANGE-ME\n",
    "source_url\n"
   ]
  },
  {
   "cell_type": "code",
   "execution_count": 4,
   "metadata": {},
   "outputs": [],
   "source": [
    "# fetching the zip file\n",
    "# fetching the csv file \n",
    "# NOTE : the zipfile must contain only csv file nothing else\n",
    "main_data = pd.read_csv(source_url,compression='zip')"
   ]
  },
  {
   "cell_type": "code",
   "execution_count": 5,
   "metadata": {},
   "outputs": [],
   "source": [
    "# Dropping the unnecessary columns\n",
    "main_data = main_data.drop(columns=['STRIKE_PR', 'OPEN', 'OPTION_TYP', 'HIGH', 'LOW', 'TIMESTAMP'])"
   ]
  },
  {
   "cell_type": "code",
   "execution_count": 6,
   "metadata": {},
   "outputs": [],
   "source": [
    "# Dropping the last column as it was empty\n",
    "main_data.drop(main_data.columns[[9]], axis=1, inplace=True)"
   ]
  },
  {
   "cell_type": "code",
   "execution_count": 7,
   "metadata": {},
   "outputs": [
    {
     "data": {
      "text/plain": [
       "103"
      ]
     },
     "execution_count": 7,
     "metadata": {},
     "output_type": "execute_result"
    }
   ],
   "source": [
    "# NIFTY 100 STOCK NAMES\n",
    "\n",
    "companies = \"\"\"ADANITRANS\n",
    "HAL\n",
    "BEL\n",
    "SBIN\n",
    "BANKBARODA\n",
    "ADANIPORTS\n",
    "SBICARD\n",
    "EICHERMOT\n",
    "SIEMENS\n",
    "ITC\n",
    "SBILIFE\n",
    "NESTLEIND\n",
    "ADANIENT\n",
    "CHOLAFIN\n",
    "BHARTIARTL\n",
    "INDUSINDBK\n",
    "INDIGO\n",
    "HAVELLS\n",
    "TATAMOTORS\n",
    "DLF\n",
    "M&M\n",
    "APOLLOHOSP\n",
    "LT\n",
    "RELIANCE\n",
    "NAUKRI\n",
    "CIPLA\n",
    "LTI\n",
    "MUTHOOTFIN\n",
    "HDFCLIFE\n",
    "COALINDIA\n",
    "HCLTECH\n",
    "HINDALCO\n",
    "TATAPOWER\n",
    "ATGL\n",
    "ICICIGI\n",
    "TATACONSUM\n",
    "ICICIBANK\n",
    "BIOCON\n",
    "ULTRACEMCO\n",
    "TATASTEEL\n",
    "WIPRO\n",
    "HDFCAMC\n",
    "IOC\n",
    "MCDOWELL-N\n",
    "ASIANPAINT\n",
    "BAJAJHLDNG\n",
    "PIIND\n",
    "BERGEPAINT\n",
    "INDUSTOWER\n",
    "INFY\n",
    "JSWSTEEL\n",
    "MARUTI\n",
    "SHREECEM\n",
    "TCS\n",
    "ONGC\n",
    "ZOMATO\n",
    "BOSCHLTD\n",
    "TITAN\n",
    "ICICIPRULI\n",
    "BANDHANBNK\n",
    "COLPAL\n",
    "PIDILITIND\n",
    "HINDUNILVR\n",
    "UPL\n",
    "POWERGRID\n",
    "SRF\n",
    "BAJFINANCE\n",
    "MARICO\n",
    "MPHASIS\n",
    "IRCTC\n",
    "BAJAJFINSV\n",
    "ADANIGREEN\n",
    "AXISBANK\n",
    "HEROMOTOCO\n",
    "DRREDDY\n",
    "DABUR\n",
    "GODREJCP\n",
    "VEDL\n",
    "PGHH\n",
    "DIVISLAB\n",
    "KOTAKBANK\n",
    "GLAND\n",
    "GAIL\n",
    "LICI\n",
    "BAJAJ-AUTO\n",
    "BPCL\n",
    "GRASIM\n",
    "HDFCBANK\n",
    "TECHM\n",
    "DMART\n",
    "BRITANNIA\n",
    "SUNPHARMA\n",
    "HDFC\n",
    "NTPC\n",
    "TORNTPHARM\n",
    "NYKAA\n",
    "PAYTM\n",
    "AMBUJACEM\n",
    "ACC\n",
    "MOTHERSON\n",
    "BANKNIFTY\n",
    "NIFTY\n",
    "\"\"\"\n",
    "companies = companies.split('\\n')\n",
    "len(companies)"
   ]
  },
  {
   "cell_type": "code",
   "execution_count": 8,
   "metadata": {},
   "outputs": [],
   "source": [
    "# Inplace droppping the row with symbol as FINNIFTY\n",
    "# main_data.drop(main_data[main_data['SYMBOL'] == 'FINNIFTY'].index, inplace=True)\n",
    "\n",
    "# Filtering out data based on INSTRUMENT AND SYMBOL \n",
    "main_data = main_data.loc[main_data['INSTRUMENT'].isin(['FUTSTK', 'FUTIDX'])]\n",
    "main_data = main_data.loc[main_data['SYMBOL'].isin(companies)]"
   ]
  },
  {
   "cell_type": "code",
   "execution_count": 9,
   "metadata": {},
   "outputs": [],
   "source": [
    "# Filtering out data based on current month expiry date\n",
    "main_data = main_data[main_data['EXPIRY_DT'].astype(str).str.match(r\"\\d{2}-Oct-2022\")]"
   ]
  },
  {
   "cell_type": "code",
   "execution_count": 10,
   "metadata": {},
   "outputs": [],
   "source": [
    "# Dropping out the first column i.e. INSTRUMENT\n",
    "main_data.drop(main_data.columns[[0]], axis=1, inplace=True)"
   ]
  },
  {
   "cell_type": "code",
   "execution_count": 11,
   "metadata": {},
   "outputs": [],
   "source": [
    "# new Column names (added date with the names)\n",
    "column_names = [ 'SYMBOL', 'EXPIRY_DT', 'CLOSE'+yesterday, 'SETTLE_PR'+yesterday, 'CONTRACTS'+yesterday, 'VAL_INLAKH'+yesterday,'OPEN_INT'+yesterday, 'CHG_IN_OI'+yesterday]\n",
    "\n",
    "# assigning the new column names\n",
    "main_data.columns = column_names"
   ]
  },
  {
   "cell_type": "code",
   "execution_count": 12,
   "metadata": {},
   "outputs": [
    {
     "data": {
      "text/html": [
       "<div>\n",
       "<style scoped>\n",
       "    .dataframe tbody tr th:only-of-type {\n",
       "        vertical-align: middle;\n",
       "    }\n",
       "\n",
       "    .dataframe tbody tr th {\n",
       "        vertical-align: top;\n",
       "    }\n",
       "\n",
       "    .dataframe thead th {\n",
       "        text-align: right;\n",
       "    }\n",
       "</style>\n",
       "<table border=\"1\" class=\"dataframe\">\n",
       "  <thead>\n",
       "    <tr style=\"text-align: right;\">\n",
       "      <th></th>\n",
       "      <th>SYMBOL</th>\n",
       "      <th>EXPIRY_DT</th>\n",
       "      <th>CLOSE24OCT2022</th>\n",
       "      <th>SETTLE_PR24OCT2022</th>\n",
       "      <th>CONTRACTS24OCT2022</th>\n",
       "      <th>VAL_INLAKH24OCT2022</th>\n",
       "      <th>OPEN_INT24OCT2022</th>\n",
       "      <th>CHG_IN_OI24OCT2022</th>\n",
       "    </tr>\n",
       "  </thead>\n",
       "  <tbody>\n",
       "    <tr>\n",
       "      <th>0</th>\n",
       "      <td>BANKNIFTY</td>\n",
       "      <td>27-Oct-2022</td>\n",
       "      <td>41270.00</td>\n",
       "      <td>41270.00</td>\n",
       "      <td>40256</td>\n",
       "      <td>415042.51</td>\n",
       "      <td>1297250</td>\n",
       "      <td>-109675</td>\n",
       "    </tr>\n",
       "    <tr>\n",
       "      <th>16</th>\n",
       "      <td>NIFTY</td>\n",
       "      <td>27-Oct-2022</td>\n",
       "      <td>17732.55</td>\n",
       "      <td>17732.55</td>\n",
       "      <td>80759</td>\n",
       "      <td>716812.02</td>\n",
       "      <td>10138500</td>\n",
       "      <td>-423400</td>\n",
       "    </tr>\n",
       "    <tr>\n",
       "      <th>34</th>\n",
       "      <td>ACC</td>\n",
       "      <td>27-Oct-2022</td>\n",
       "      <td>2255.15</td>\n",
       "      <td>2255.15</td>\n",
       "      <td>390</td>\n",
       "      <td>2201.44</td>\n",
       "      <td>2382500</td>\n",
       "      <td>-15750</td>\n",
       "    </tr>\n",
       "    <tr>\n",
       "      <th>37</th>\n",
       "      <td>ADANIENT</td>\n",
       "      <td>27-Oct-2022</td>\n",
       "      <td>3307.60</td>\n",
       "      <td>3307.60</td>\n",
       "      <td>1106</td>\n",
       "      <td>18354.04</td>\n",
       "      <td>6308000</td>\n",
       "      <td>-75500</td>\n",
       "    </tr>\n",
       "    <tr>\n",
       "      <th>40</th>\n",
       "      <td>ADANIPORTS</td>\n",
       "      <td>27-Oct-2022</td>\n",
       "      <td>801.30</td>\n",
       "      <td>801.30</td>\n",
       "      <td>1040</td>\n",
       "      <td>10449.28</td>\n",
       "      <td>21832500</td>\n",
       "      <td>-173750</td>\n",
       "    </tr>\n",
       "    <tr>\n",
       "      <th>...</th>\n",
       "      <td>...</td>\n",
       "      <td>...</td>\n",
       "      <td>...</td>\n",
       "      <td>...</td>\n",
       "      <td>...</td>\n",
       "      <td>...</td>\n",
       "      <td>...</td>\n",
       "      <td>...</td>\n",
       "    </tr>\n",
       "    <tr>\n",
       "      <th>561</th>\n",
       "      <td>TORNTPHARM</td>\n",
       "      <td>27-Oct-2022</td>\n",
       "      <td>1568.85</td>\n",
       "      <td>1568.85</td>\n",
       "      <td>85</td>\n",
       "      <td>665.69</td>\n",
       "      <td>746000</td>\n",
       "      <td>-9000</td>\n",
       "    </tr>\n",
       "    <tr>\n",
       "      <th>576</th>\n",
       "      <td>ULTRACEMCO</td>\n",
       "      <td>27-Oct-2022</td>\n",
       "      <td>6397.00</td>\n",
       "      <td>6397.00</td>\n",
       "      <td>1057</td>\n",
       "      <td>6787.35</td>\n",
       "      <td>920900</td>\n",
       "      <td>-33000</td>\n",
       "    </tr>\n",
       "    <tr>\n",
       "      <th>579</th>\n",
       "      <td>UPL</td>\n",
       "      <td>27-Oct-2022</td>\n",
       "      <td>701.35</td>\n",
       "      <td>701.35</td>\n",
       "      <td>1091</td>\n",
       "      <td>9978.72</td>\n",
       "      <td>11779300</td>\n",
       "      <td>-217100</td>\n",
       "    </tr>\n",
       "    <tr>\n",
       "      <th>582</th>\n",
       "      <td>VEDL</td>\n",
       "      <td>27-Oct-2022</td>\n",
       "      <td>280.10</td>\n",
       "      <td>280.10</td>\n",
       "      <td>601</td>\n",
       "      <td>2610.59</td>\n",
       "      <td>14514200</td>\n",
       "      <td>-88350</td>\n",
       "    </tr>\n",
       "    <tr>\n",
       "      <th>591</th>\n",
       "      <td>WIPRO</td>\n",
       "      <td>27-Oct-2022</td>\n",
       "      <td>384.45</td>\n",
       "      <td>384.45</td>\n",
       "      <td>2253</td>\n",
       "      <td>8669.65</td>\n",
       "      <td>21157000</td>\n",
       "      <td>-1189000</td>\n",
       "    </tr>\n",
       "  </tbody>\n",
       "</table>\n",
       "<p>91 rows × 8 columns</p>\n",
       "</div>"
      ],
      "text/plain": [
       "         SYMBOL    EXPIRY_DT  CLOSE24OCT2022  SETTLE_PR24OCT2022  \\\n",
       "0     BANKNIFTY  27-Oct-2022        41270.00            41270.00   \n",
       "16        NIFTY  27-Oct-2022        17732.55            17732.55   \n",
       "34          ACC  27-Oct-2022         2255.15             2255.15   \n",
       "37     ADANIENT  27-Oct-2022         3307.60             3307.60   \n",
       "40   ADANIPORTS  27-Oct-2022          801.30              801.30   \n",
       "..          ...          ...             ...                 ...   \n",
       "561  TORNTPHARM  27-Oct-2022         1568.85             1568.85   \n",
       "576  ULTRACEMCO  27-Oct-2022         6397.00             6397.00   \n",
       "579         UPL  27-Oct-2022          701.35              701.35   \n",
       "582        VEDL  27-Oct-2022          280.10              280.10   \n",
       "591       WIPRO  27-Oct-2022          384.45              384.45   \n",
       "\n",
       "     CONTRACTS24OCT2022  VAL_INLAKH24OCT2022  OPEN_INT24OCT2022  \\\n",
       "0                 40256            415042.51            1297250   \n",
       "16                80759            716812.02           10138500   \n",
       "34                  390              2201.44            2382500   \n",
       "37                 1106             18354.04            6308000   \n",
       "40                 1040             10449.28           21832500   \n",
       "..                  ...                  ...                ...   \n",
       "561                  85               665.69             746000   \n",
       "576                1057              6787.35             920900   \n",
       "579                1091              9978.72           11779300   \n",
       "582                 601              2610.59           14514200   \n",
       "591                2253              8669.65           21157000   \n",
       "\n",
       "     CHG_IN_OI24OCT2022  \n",
       "0               -109675  \n",
       "16              -423400  \n",
       "34               -15750  \n",
       "37               -75500  \n",
       "40              -173750  \n",
       "..                  ...  \n",
       "561               -9000  \n",
       "576              -33000  \n",
       "579             -217100  \n",
       "582              -88350  \n",
       "591            -1189000  \n",
       "\n",
       "[91 rows x 8 columns]"
      ]
     },
     "execution_count": 12,
     "metadata": {},
     "output_type": "execute_result"
    }
   ],
   "source": [
    "main_data"
   ]
  },
  {
   "cell_type": "code",
   "execution_count": 13,
   "metadata": {},
   "outputs": [],
   "source": [
    "main_data.to_csv('fandodata.csv', index=False)"
   ]
  },
  {
   "cell_type": "code",
   "execution_count": null,
   "metadata": {},
   "outputs": [],
   "source": []
  },
  {
   "cell_type": "code",
   "execution_count": null,
   "metadata": {},
   "outputs": [],
   "source": []
  },
  {
   "cell_type": "code",
   "execution_count": 14,
   "metadata": {},
   "outputs": [
    {
     "data": {
      "text/plain": [
       "(     a  b\n",
       " 0  foo  1\n",
       " 1  bar  2,\n",
       "      a  c\n",
       " 0  foo  3\n",
       " 1  baz  4)"
      ]
     },
     "execution_count": 14,
     "metadata": {},
     "output_type": "execute_result"
    }
   ],
   "source": [
    "df1 = pd.DataFrame({'a': ['foo', 'bar'], 'b': [1, 2]})\n",
    "df2 = pd.DataFrame({'a': ['foo', 'baz'], 'c': [3, 4]})\n",
    "df1, df2\n",
    "#       a  b\n",
    "# 0   foo  1\n",
    "# 1   bar  2\n",
    "# >>> df2\n",
    "#       a  c\n",
    "# 0   foo  3\n",
    "# 1   baz  4"
   ]
  },
  {
   "cell_type": "code",
   "execution_count": 15,
   "metadata": {},
   "outputs": [],
   "source": [
    "df1 = df1.merge(df2, how='outer', on='a')"
   ]
  },
  {
   "cell_type": "code",
   "execution_count": 16,
   "metadata": {},
   "outputs": [],
   "source": [
    "x_col = df1['b']\n",
    "df1.drop(columns='b', inplace=True)\n",
    "df1.insert(0, 'b', x_col)"
   ]
  },
  {
   "cell_type": "code",
   "execution_count": 17,
   "metadata": {},
   "outputs": [
    {
     "data": {
      "text/html": [
       "<div>\n",
       "<style scoped>\n",
       "    .dataframe tbody tr th:only-of-type {\n",
       "        vertical-align: middle;\n",
       "    }\n",
       "\n",
       "    .dataframe tbody tr th {\n",
       "        vertical-align: top;\n",
       "    }\n",
       "\n",
       "    .dataframe thead th {\n",
       "        text-align: right;\n",
       "    }\n",
       "</style>\n",
       "<table border=\"1\" class=\"dataframe\">\n",
       "  <thead>\n",
       "    <tr style=\"text-align: right;\">\n",
       "      <th></th>\n",
       "      <th>b</th>\n",
       "      <th>a</th>\n",
       "      <th>c</th>\n",
       "    </tr>\n",
       "  </thead>\n",
       "  <tbody>\n",
       "    <tr>\n",
       "      <th>0</th>\n",
       "      <td>1.0</td>\n",
       "      <td>foo</td>\n",
       "      <td>3.0</td>\n",
       "    </tr>\n",
       "    <tr>\n",
       "      <th>1</th>\n",
       "      <td>2.0</td>\n",
       "      <td>bar</td>\n",
       "      <td>NaN</td>\n",
       "    </tr>\n",
       "    <tr>\n",
       "      <th>2</th>\n",
       "      <td>NaN</td>\n",
       "      <td>baz</td>\n",
       "      <td>4.0</td>\n",
       "    </tr>\n",
       "  </tbody>\n",
       "</table>\n",
       "</div>"
      ],
      "text/plain": [
       "     b    a    c\n",
       "0  1.0  foo  3.0\n",
       "1  2.0  bar  NaN\n",
       "2  NaN  baz  4.0"
      ]
     },
     "execution_count": 17,
     "metadata": {},
     "output_type": "execute_result"
    }
   ],
   "source": [
    "df1"
   ]
  }
 ],
 "metadata": {
  "kernelspec": {
   "display_name": "Python 3.10.5 64-bit",
   "language": "python",
   "name": "python3"
  },
  "language_info": {
   "codemirror_mode": {
    "name": "ipython",
    "version": 3
   },
   "file_extension": ".py",
   "mimetype": "text/x-python",
   "name": "python",
   "nbconvert_exporter": "python",
   "pygments_lexer": "ipython3",
   "version": "3.10.5"
  },
  "orig_nbformat": 4,
  "vscode": {
   "interpreter": {
    "hash": "369f2c481f4da34e4445cda3fffd2e751bd1c4d706f27375911949ba6bb62e1c"
   }
  }
 },
 "nbformat": 4,
 "nbformat_minor": 2
}
