{
 "cells": [
  {
   "cell_type": "code",
   "execution_count": 62,
   "metadata": {},
   "outputs": [],
   "source": [
    "import pandas as pd\n",
    "import datetime"
   ]
  },
  {
   "cell_type": "code",
   "execution_count": 63,
   "metadata": {},
   "outputs": [
    {
     "data": {
      "text/plain": [
       "('19OCT2022', '18OCT2022')"
      ]
     },
     "execution_count": 63,
     "metadata": {},
     "output_type": "execute_result"
    }
   ],
   "source": [
    "# today's data and yesterday's date\n",
    "today = (datetime.datetime.today().strftime('%d%b%Y')).upper()\n",
    "yesterday = ((datetime.datetime.today() - datetime.timedelta(days=1)).strftime('%d%b%Y')).upper()\n",
    "today, yesterday"
   ]
  },
  {
   "cell_type": "code",
   "execution_count": 64,
   "metadata": {},
   "outputs": [
    {
     "data": {
      "text/plain": [
       "'https://archives.nseindia.com/content/historical/DERIVATIVES/2022/OCT/fo18OCT2022bhav.csv.zip'"
      ]
     },
     "execution_count": 64,
     "metadata": {},
     "output_type": "execute_result"
    }
   ],
   "source": [
    "# source url for fetching the data from nseIndia.com\n",
    "source_url = 'https://archives.nseindia.com/content/historical/DERIVATIVES/2022/OCT/fo{}bhav.csv.zip'.format(yesterday)  # CHANGE-ME\n",
    "source_url\n"
   ]
  },
  {
   "cell_type": "code",
   "execution_count": 65,
   "metadata": {},
   "outputs": [],
   "source": [
    "# fetching the zip file\n",
    "# fetching the csv file \n",
    "# NOTE : the zipfile must contain only csv file nothing else\n",
    "main_data = pd.read_csv(source_url,compression='zip')"
   ]
  },
  {
   "cell_type": "code",
   "execution_count": 66,
   "metadata": {},
   "outputs": [],
   "source": [
    "# Dropping the unnecessary columns\n",
    "main_data = main_data.drop(columns=['STRIKE_PR', 'OPEN', 'OPTION_TYP', 'HIGH', 'LOW', 'TIMESTAMP'])"
   ]
  },
  {
   "cell_type": "code",
   "execution_count": 67,
   "metadata": {},
   "outputs": [],
   "source": [
    "# Dropping the last column as it was empty\n",
    "main_data.drop(main_data.columns[[9]], axis=1, inplace=True)"
   ]
  },
  {
   "cell_type": "code",
   "execution_count": 68,
   "metadata": {},
   "outputs": [
    {
     "data": {
      "text/plain": [
       "103"
      ]
     },
     "execution_count": 68,
     "metadata": {},
     "output_type": "execute_result"
    }
   ],
   "source": [
    "# NIFTY 100 STOCK NAMES\n",
    "\n",
    "companies = \"\"\"ADANITRANS\n",
    "HAL\n",
    "BEL\n",
    "SBIN\n",
    "BANKBARODA\n",
    "ADANIPORTS\n",
    "SBICARD\n",
    "EICHERMOT\n",
    "SIEMENS\n",
    "ITC\n",
    "SBILIFE\n",
    "NESTLEIND\n",
    "ADANIENT\n",
    "CHOLAFIN\n",
    "BHARTIARTL\n",
    "INDUSINDBK\n",
    "INDIGO\n",
    "HAVELLS\n",
    "TATAMOTORS\n",
    "DLF\n",
    "M&M\n",
    "APOLLOHOSP\n",
    "LT\n",
    "RELIANCE\n",
    "NAUKRI\n",
    "CIPLA\n",
    "LTI\n",
    "MUTHOOTFIN\n",
    "HDFCLIFE\n",
    "COALINDIA\n",
    "HCLTECH\n",
    "HINDALCO\n",
    "TATAPOWER\n",
    "ATGL\n",
    "ICICIGI\n",
    "TATACONSUM\n",
    "ICICIBANK\n",
    "BIOCON\n",
    "ULTRACEMCO\n",
    "TATASTEEL\n",
    "WIPRO\n",
    "HDFCAMC\n",
    "IOC\n",
    "MCDOWELL-N\n",
    "ASIANPAINT\n",
    "BAJAJHLDNG\n",
    "PIIND\n",
    "BERGEPAINT\n",
    "INDUSTOWER\n",
    "INFY\n",
    "JSWSTEEL\n",
    "MARUTI\n",
    "SHREECEM\n",
    "TCS\n",
    "ONGC\n",
    "ZOMATO\n",
    "BOSCHLTD\n",
    "TITAN\n",
    "ICICIPRULI\n",
    "BANDHANBNK\n",
    "COLPAL\n",
    "PIDILITIND\n",
    "HINDUNILVR\n",
    "UPL\n",
    "POWERGRID\n",
    "SRF\n",
    "BAJFINANCE\n",
    "MARICO\n",
    "MPHASIS\n",
    "IRCTC\n",
    "BAJAJFINSV\n",
    "ADANIGREEN\n",
    "AXISBANK\n",
    "HEROMOTOCO\n",
    "DRREDDY\n",
    "DABUR\n",
    "GODREJCP\n",
    "VEDL\n",
    "PGHH\n",
    "DIVISLAB\n",
    "KOTAKBANK\n",
    "GLAND\n",
    "GAIL\n",
    "LICI\n",
    "BAJAJ-AUTO\n",
    "BPCL\n",
    "GRASIM\n",
    "HDFCBANK\n",
    "TECHM\n",
    "DMART\n",
    "BRITANNIA\n",
    "SUNPHARMA\n",
    "HDFC\n",
    "NTPC\n",
    "TORNTPHARM\n",
    "NYKAA\n",
    "PAYTM\n",
    "AMBUJACEM\n",
    "ACC\n",
    "MOTHERSON\n",
    "BANKNIFTY\n",
    "NIFTY\n",
    "\"\"\"\n",
    "companies = companies.split('\\n')\n",
    "len(companies)"
   ]
  },
  {
   "cell_type": "code",
   "execution_count": 69,
   "metadata": {},
   "outputs": [],
   "source": [
    "# Inplace droppping the row with symbol as FINNIFTY\n",
    "# main_data.drop(main_data[main_data['SYMBOL'] == 'FINNIFTY'].index, inplace=True)\n",
    "\n",
    "# Filtering out data based on INSTRUMENT AND SYMBOL \n",
    "main_data = main_data.loc[main_data['INSTRUMENT'].isin(['FUTSTK', 'FUTIDX'])]\n",
    "main_data = main_data.loc[main_data['SYMBOL'].isin(companies)]"
   ]
  },
  {
   "cell_type": "code",
   "execution_count": 70,
   "metadata": {},
   "outputs": [],
   "source": [
    "# Filtering out data based on current month expiry date\n",
    "main_data = main_data[main_data['EXPIRY_DT'].astype(str).str.match(r\"\\d{2}-Oct-2022\")]"
   ]
  },
  {
   "cell_type": "code",
   "execution_count": 71,
   "metadata": {},
   "outputs": [],
   "source": [
    "# Dropping out the first column i.e. INSTRUMENT\n",
    "main_data.drop(main_data.columns[[0]], axis=1, inplace=True)"
   ]
  },
  {
   "cell_type": "code",
   "execution_count": 72,
   "metadata": {},
   "outputs": [],
   "source": [
    "# new Column names (added date with the names)\n",
    "column_names = [ 'SYMBOL', 'EXPIRY_DT', 'CLOSE'+yesterday, 'SETTLE_PR'+yesterday, 'CONTRACTS'+yesterday, 'VAL_INLAKH'+yesterday,'OPEN_INT'+yesterday, 'CHG_IN_OI'+yesterday]\n",
    "\n",
    "# assigning the new column names\n",
    "main_data.columns = column_names"
   ]
  },
  {
   "cell_type": "code",
   "execution_count": 73,
   "metadata": {},
   "outputs": [
    {
     "data": {
      "text/html": [
       "<div>\n",
       "<style scoped>\n",
       "    .dataframe tbody tr th:only-of-type {\n",
       "        vertical-align: middle;\n",
       "    }\n",
       "\n",
       "    .dataframe tbody tr th {\n",
       "        vertical-align: top;\n",
       "    }\n",
       "\n",
       "    .dataframe thead th {\n",
       "        text-align: right;\n",
       "    }\n",
       "</style>\n",
       "<table border=\"1\" class=\"dataframe\">\n",
       "  <thead>\n",
       "    <tr style=\"text-align: right;\">\n",
       "      <th></th>\n",
       "      <th>SYMBOL</th>\n",
       "      <th>EXPIRY_DT</th>\n",
       "      <th>CLOSE18OCT2022</th>\n",
       "      <th>SETTLE_PR18OCT2022</th>\n",
       "      <th>CONTRACTS18OCT2022</th>\n",
       "      <th>VAL_INLAKH18OCT2022</th>\n",
       "      <th>OPEN_INT18OCT2022</th>\n",
       "      <th>CHG_IN_OI18OCT2022</th>\n",
       "    </tr>\n",
       "  </thead>\n",
       "  <tbody>\n",
       "    <tr>\n",
       "      <th>0</th>\n",
       "      <td>BANKNIFTY</td>\n",
       "      <td>27-Oct-2022</td>\n",
       "      <td>40380.10</td>\n",
       "      <td>40380.10</td>\n",
       "      <td>124441</td>\n",
       "      <td>1255775.74</td>\n",
       "      <td>1633100</td>\n",
       "      <td>-194875</td>\n",
       "    </tr>\n",
       "    <tr>\n",
       "      <th>16</th>\n",
       "      <td>NIFTY</td>\n",
       "      <td>27-Oct-2022</td>\n",
       "      <td>17502.00</td>\n",
       "      <td>17502.00</td>\n",
       "      <td>190681</td>\n",
       "      <td>1667618.58</td>\n",
       "      <td>11411250</td>\n",
       "      <td>-1273300</td>\n",
       "    </tr>\n",
       "    <tr>\n",
       "      <th>34</th>\n",
       "      <td>ACC</td>\n",
       "      <td>27-Oct-2022</td>\n",
       "      <td>2224.85</td>\n",
       "      <td>2224.85</td>\n",
       "      <td>10937</td>\n",
       "      <td>61276.54</td>\n",
       "      <td>4131250</td>\n",
       "      <td>-530500</td>\n",
       "    </tr>\n",
       "    <tr>\n",
       "      <th>37</th>\n",
       "      <td>ADANIENT</td>\n",
       "      <td>27-Oct-2022</td>\n",
       "      <td>3291.45</td>\n",
       "      <td>3291.45</td>\n",
       "      <td>8850</td>\n",
       "      <td>145049.84</td>\n",
       "      <td>13333500</td>\n",
       "      <td>-1091000</td>\n",
       "    </tr>\n",
       "    <tr>\n",
       "      <th>40</th>\n",
       "      <td>ADANIPORTS</td>\n",
       "      <td>27-Oct-2022</td>\n",
       "      <td>810.00</td>\n",
       "      <td>810.00</td>\n",
       "      <td>36783</td>\n",
       "      <td>372577.41</td>\n",
       "      <td>35147500</td>\n",
       "      <td>-34007500</td>\n",
       "    </tr>\n",
       "    <tr>\n",
       "      <th>...</th>\n",
       "      <td>...</td>\n",
       "      <td>...</td>\n",
       "      <td>...</td>\n",
       "      <td>...</td>\n",
       "      <td>...</td>\n",
       "      <td>...</td>\n",
       "      <td>...</td>\n",
       "      <td>...</td>\n",
       "    </tr>\n",
       "    <tr>\n",
       "      <th>561</th>\n",
       "      <td>TORNTPHARM</td>\n",
       "      <td>27-Oct-2022</td>\n",
       "      <td>1564.55</td>\n",
       "      <td>1564.55</td>\n",
       "      <td>906</td>\n",
       "      <td>7112.34</td>\n",
       "      <td>1736500</td>\n",
       "      <td>18500</td>\n",
       "    </tr>\n",
       "    <tr>\n",
       "      <th>576</th>\n",
       "      <td>ULTRACEMCO</td>\n",
       "      <td>27-Oct-2022</td>\n",
       "      <td>6368.65</td>\n",
       "      <td>6368.65</td>\n",
       "      <td>11133</td>\n",
       "      <td>71131.67</td>\n",
       "      <td>1871700</td>\n",
       "      <td>-40000</td>\n",
       "    </tr>\n",
       "    <tr>\n",
       "      <th>579</th>\n",
       "      <td>UPL</td>\n",
       "      <td>27-Oct-2022</td>\n",
       "      <td>683.75</td>\n",
       "      <td>683.75</td>\n",
       "      <td>1808</td>\n",
       "      <td>16101.66</td>\n",
       "      <td>23280400</td>\n",
       "      <td>-465400</td>\n",
       "    </tr>\n",
       "    <tr>\n",
       "      <th>582</th>\n",
       "      <td>VEDL</td>\n",
       "      <td>27-Oct-2022</td>\n",
       "      <td>280.60</td>\n",
       "      <td>280.60</td>\n",
       "      <td>4421</td>\n",
       "      <td>19324.79</td>\n",
       "      <td>29367850</td>\n",
       "      <td>-94550</td>\n",
       "    </tr>\n",
       "    <tr>\n",
       "      <th>591</th>\n",
       "      <td>WIPRO</td>\n",
       "      <td>27-Oct-2022</td>\n",
       "      <td>380.85</td>\n",
       "      <td>380.85</td>\n",
       "      <td>14484</td>\n",
       "      <td>55331.86</td>\n",
       "      <td>36677000</td>\n",
       "      <td>-2161000</td>\n",
       "    </tr>\n",
       "  </tbody>\n",
       "</table>\n",
       "<p>91 rows × 8 columns</p>\n",
       "</div>"
      ],
      "text/plain": [
       "         SYMBOL    EXPIRY_DT  CLOSE18OCT2022  SETTLE_PR18OCT2022  \\\n",
       "0     BANKNIFTY  27-Oct-2022        40380.10            40380.10   \n",
       "16        NIFTY  27-Oct-2022        17502.00            17502.00   \n",
       "34          ACC  27-Oct-2022         2224.85             2224.85   \n",
       "37     ADANIENT  27-Oct-2022         3291.45             3291.45   \n",
       "40   ADANIPORTS  27-Oct-2022          810.00              810.00   \n",
       "..          ...          ...             ...                 ...   \n",
       "561  TORNTPHARM  27-Oct-2022         1564.55             1564.55   \n",
       "576  ULTRACEMCO  27-Oct-2022         6368.65             6368.65   \n",
       "579         UPL  27-Oct-2022          683.75              683.75   \n",
       "582        VEDL  27-Oct-2022          280.60              280.60   \n",
       "591       WIPRO  27-Oct-2022          380.85              380.85   \n",
       "\n",
       "     CONTRACTS18OCT2022  VAL_INLAKH18OCT2022  OPEN_INT18OCT2022  \\\n",
       "0                124441           1255775.74            1633100   \n",
       "16               190681           1667618.58           11411250   \n",
       "34                10937             61276.54            4131250   \n",
       "37                 8850            145049.84           13333500   \n",
       "40                36783            372577.41           35147500   \n",
       "..                  ...                  ...                ...   \n",
       "561                 906              7112.34            1736500   \n",
       "576               11133             71131.67            1871700   \n",
       "579                1808             16101.66           23280400   \n",
       "582                4421             19324.79           29367850   \n",
       "591               14484             55331.86           36677000   \n",
       "\n",
       "     CHG_IN_OI18OCT2022  \n",
       "0               -194875  \n",
       "16             -1273300  \n",
       "34              -530500  \n",
       "37             -1091000  \n",
       "40            -34007500  \n",
       "..                  ...  \n",
       "561               18500  \n",
       "576              -40000  \n",
       "579             -465400  \n",
       "582              -94550  \n",
       "591            -2161000  \n",
       "\n",
       "[91 rows x 8 columns]"
      ]
     },
     "execution_count": 73,
     "metadata": {},
     "output_type": "execute_result"
    }
   ],
   "source": [
    "main_data"
   ]
  },
  {
   "cell_type": "code",
   "execution_count": 74,
   "metadata": {},
   "outputs": [],
   "source": [
    "main_data.to_csv('fandodata.csv', index=False)"
   ]
  },
  {
   "cell_type": "code",
   "execution_count": null,
   "metadata": {},
   "outputs": [],
   "source": []
  },
  {
   "cell_type": "code",
   "execution_count": null,
   "metadata": {},
   "outputs": [],
   "source": []
  },
  {
   "cell_type": "code",
   "execution_count": 83,
   "metadata": {},
   "outputs": [
    {
     "data": {
      "text/plain": [
       "(     a  b\n",
       " 0  foo  1\n",
       " 1  bar  2,\n",
       "      a  c\n",
       " 0  foo  3\n",
       " 1  baz  4)"
      ]
     },
     "execution_count": 83,
     "metadata": {},
     "output_type": "execute_result"
    }
   ],
   "source": [
    "df1 = pd.DataFrame({'a': ['foo', 'bar'], 'b': [1, 2]})\n",
    "df2 = pd.DataFrame({'a': ['foo', 'baz'], 'c': [3, 4]})\n",
    "df1, df2\n",
    "#       a  b\n",
    "# 0   foo  1\n",
    "# 1   bar  2\n",
    "# >>> df2\n",
    "#       a  c\n",
    "# 0   foo  3\n",
    "# 1   baz  4"
   ]
  },
  {
   "cell_type": "code",
   "execution_count": 84,
   "metadata": {},
   "outputs": [],
   "source": [
    "df1 = df1.merge(df2, how='outer', on='a')"
   ]
  },
  {
   "cell_type": "code",
   "execution_count": 85,
   "metadata": {},
   "outputs": [],
   "source": [
    "x_col = df1['b']\n",
    "df1.drop(columns='b', inplace=True)\n",
    "df1.insert(0, 'b', x_col)"
   ]
  },
  {
   "cell_type": "code",
   "execution_count": 86,
   "metadata": {},
   "outputs": [
    {
     "data": {
      "text/html": [
       "<div>\n",
       "<style scoped>\n",
       "    .dataframe tbody tr th:only-of-type {\n",
       "        vertical-align: middle;\n",
       "    }\n",
       "\n",
       "    .dataframe tbody tr th {\n",
       "        vertical-align: top;\n",
       "    }\n",
       "\n",
       "    .dataframe thead th {\n",
       "        text-align: right;\n",
       "    }\n",
       "</style>\n",
       "<table border=\"1\" class=\"dataframe\">\n",
       "  <thead>\n",
       "    <tr style=\"text-align: right;\">\n",
       "      <th></th>\n",
       "      <th>b</th>\n",
       "      <th>a</th>\n",
       "      <th>c</th>\n",
       "    </tr>\n",
       "  </thead>\n",
       "  <tbody>\n",
       "    <tr>\n",
       "      <th>0</th>\n",
       "      <td>1.0</td>\n",
       "      <td>foo</td>\n",
       "      <td>3.0</td>\n",
       "    </tr>\n",
       "    <tr>\n",
       "      <th>1</th>\n",
       "      <td>2.0</td>\n",
       "      <td>bar</td>\n",
       "      <td>NaN</td>\n",
       "    </tr>\n",
       "    <tr>\n",
       "      <th>2</th>\n",
       "      <td>NaN</td>\n",
       "      <td>baz</td>\n",
       "      <td>4.0</td>\n",
       "    </tr>\n",
       "  </tbody>\n",
       "</table>\n",
       "</div>"
      ],
      "text/plain": [
       "     b    a    c\n",
       "0  1.0  foo  3.0\n",
       "1  2.0  bar  NaN\n",
       "2  NaN  baz  4.0"
      ]
     },
     "execution_count": 86,
     "metadata": {},
     "output_type": "execute_result"
    }
   ],
   "source": [
    "df1"
   ]
  }
 ],
 "metadata": {
  "kernelspec": {
   "display_name": "Python 3.10.5 64-bit",
   "language": "python",
   "name": "python3"
  },
  "language_info": {
   "codemirror_mode": {
    "name": "ipython",
    "version": 3
   },
   "file_extension": ".py",
   "mimetype": "text/x-python",
   "name": "python",
   "nbconvert_exporter": "python",
   "pygments_lexer": "ipython3",
   "version": "3.10.5"
  },
  "orig_nbformat": 4,
  "vscode": {
   "interpreter": {
    "hash": "a9cff5a362bc38ef45d817ae74b1af54d6a076e3d773891282bce078b815ba34"
   }
  }
 },
 "nbformat": 4,
 "nbformat_minor": 2
}
