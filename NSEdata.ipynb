{
 "cells": [
  {
   "cell_type": "code",
   "execution_count": 1,
   "metadata": {},
   "outputs": [],
   "source": [
    "import csv\n",
    "import datetime\n",
    "import requests\n",
    "import pandas as pd"
   ]
  },
  {
   "cell_type": "code",
   "execution_count": 2,
   "metadata": {},
   "outputs": [],
   "source": [
    "# set up today and yesterday\n",
    "current_date = datetime.date.today()\n",
    "today = current_date.strftime(\"%d%m%Y\")\n",
    "\n",
    "yesterday = current_date - datetime.timedelta(days=1)\n",
    "yesterday = yesterday.strftime('%d%m%Y')"
   ]
  },
  {
   "cell_type": "code",
   "execution_count": 3,
   "metadata": {},
   "outputs": [
    {
     "data": {
      "text/plain": [
       "'13102022'"
      ]
     },
     "execution_count": 3,
     "metadata": {},
     "output_type": "execute_result"
    }
   ],
   "source": [
    "yesterday"
   ]
  },
  {
   "cell_type": "code",
   "execution_count": 4,
   "metadata": {},
   "outputs": [
    {
     "data": {
      "text/plain": [
       "'14102022'"
      ]
     },
     "execution_count": 4,
     "metadata": {},
     "output_type": "execute_result"
    }
   ],
   "source": [
    "today"
   ]
  },
  {
   "cell_type": "code",
   "execution_count": 5,
   "metadata": {},
   "outputs": [],
   "source": [
    "# setup the source url to fetch the new data from nseindia.com\n",
    "source_file_name = 'sec_bhavdata_full_{}.csv'\n",
    "base_url = r'https://archives.nseindia.com/products/content/'\n",
    "source_url = base_url+source_file_name.format(today)"
   ]
  },
  {
   "cell_type": "code",
   "execution_count": 6,
   "metadata": {},
   "outputs": [
    {
     "data": {
      "text/plain": [
       "'https://archives.nseindia.com/products/content/sec_bhavdata_full_14102022.csv'"
      ]
     },
     "execution_count": 6,
     "metadata": {},
     "output_type": "execute_result"
    }
   ],
   "source": [
    "source_url"
   ]
  },
  {
   "cell_type": "code",
   "execution_count": 7,
   "metadata": {},
   "outputs": [],
   "source": [
    "# setup the column names of the new file\n",
    "column_names = ['Symbol', 'Series', 'Date', 'PrevClose', 'OpenPrice', 'HighPrice', 'LowPrice', 'LastPrice', 'ClosePrice'+today, 'AvgPrice', 'TotalTradedQuantity'+today, 'TurnoverInLacs'+today, 'NoOfTrades', 'DeliveryQuantity'+today, 'DeliveryPercentage'+today]"
   ]
  },
  {
   "cell_type": "code",
   "execution_count": 8,
   "metadata": {},
   "outputs": [
    {
     "data": {
      "text/plain": [
       "['Symbol',\n",
       " 'Series',\n",
       " 'Date',\n",
       " 'PrevClose',\n",
       " 'OpenPrice',\n",
       " 'HighPrice',\n",
       " 'LowPrice',\n",
       " 'LastPrice',\n",
       " 'ClosePrice14102022',\n",
       " 'AvgPrice',\n",
       " 'TotalTradedQuantity14102022',\n",
       " 'TurnoverInLacs14102022',\n",
       " 'NoOfTrades',\n",
       " 'DeliveryQuantity14102022',\n",
       " 'DeliveryPercentage14102022']"
      ]
     },
     "execution_count": 8,
     "metadata": {},
     "output_type": "execute_result"
    }
   ],
   "source": [
    "column_names"
   ]
  },
  {
   "cell_type": "code",
   "execution_count": 9,
   "metadata": {},
   "outputs": [],
   "source": [
    "# fetch the main bhav data file.\n",
    "main_bhav_data = pd.read_csv('nse_data_file.csv')"
   ]
  },
  {
   "cell_type": "code",
   "execution_count": 10,
   "metadata": {},
   "outputs": [
    {
     "data": {
      "text/html": [
       "<div>\n",
       "<style scoped>\n",
       "    .dataframe tbody tr th:only-of-type {\n",
       "        vertical-align: middle;\n",
       "    }\n",
       "\n",
       "    .dataframe tbody tr th {\n",
       "        vertical-align: top;\n",
       "    }\n",
       "\n",
       "    .dataframe thead th {\n",
       "        text-align: right;\n",
       "    }\n",
       "</style>\n",
       "<table border=\"1\" class=\"dataframe\">\n",
       "  <thead>\n",
       "    <tr style=\"text-align: right;\">\n",
       "      <th></th>\n",
       "      <th>Symbol</th>\n",
       "      <th>Series</th>\n",
       "      <th>ClosePrice12102022</th>\n",
       "      <th>ClosePrice13102022</th>\n",
       "      <th>TotalTradedQuantity12102022</th>\n",
       "      <th>TotalTradedQuantity13102022</th>\n",
       "      <th>TurnoverInLacs12102022</th>\n",
       "      <th>TurnoverInLacs13102022</th>\n",
       "      <th>DeliveryQuantity12102022</th>\n",
       "      <th>DeliveryQuantity13102022</th>\n",
       "      <th>DeliveryPercentage12102022</th>\n",
       "      <th>DeliveryPercentage13102022</th>\n",
       "    </tr>\n",
       "  </thead>\n",
       "  <tbody>\n",
       "    <tr>\n",
       "      <th>0</th>\n",
       "      <td>20MICRONS</td>\n",
       "      <td>EQ</td>\n",
       "      <td>96.85</td>\n",
       "      <td>111.50</td>\n",
       "      <td>88261</td>\n",
       "      <td>1</td>\n",
       "      <td>85.70</td>\n",
       "      <td>0.00</td>\n",
       "      <td>44571</td>\n",
       "      <td>1</td>\n",
       "      <td>50.5</td>\n",
       "      <td>100</td>\n",
       "    </tr>\n",
       "    <tr>\n",
       "      <th>1</th>\n",
       "      <td>21STCENMGM</td>\n",
       "      <td>EQ</td>\n",
       "      <td>23.15</td>\n",
       "      <td>95.95</td>\n",
       "      <td>4557</td>\n",
       "      <td>56206</td>\n",
       "      <td>1.06</td>\n",
       "      <td>54.18</td>\n",
       "      <td>3875</td>\n",
       "      <td>33265</td>\n",
       "      <td>85.03</td>\n",
       "      <td>59.18</td>\n",
       "    </tr>\n",
       "    <tr>\n",
       "      <th>2</th>\n",
       "      <td>3IINFOLTD</td>\n",
       "      <td>EQ</td>\n",
       "      <td>42.35</td>\n",
       "      <td>23.30</td>\n",
       "      <td>255269</td>\n",
       "      <td>5194</td>\n",
       "      <td>108.93</td>\n",
       "      <td>1.20</td>\n",
       "      <td>154933</td>\n",
       "      <td>1875</td>\n",
       "      <td>60.69</td>\n",
       "      <td>36.1</td>\n",
       "    </tr>\n",
       "    <tr>\n",
       "      <th>3</th>\n",
       "      <td>3MINDIA</td>\n",
       "      <td>EQ</td>\n",
       "      <td>23684.00</td>\n",
       "      <td>42.60</td>\n",
       "      <td>3038</td>\n",
       "      <td>263245</td>\n",
       "      <td>715.59</td>\n",
       "      <td>112.31</td>\n",
       "      <td>1320</td>\n",
       "      <td>154224</td>\n",
       "      <td>43.45</td>\n",
       "      <td>58.59</td>\n",
       "    </tr>\n",
       "    <tr>\n",
       "      <th>4</th>\n",
       "      <td>3PLAND</td>\n",
       "      <td>EQ</td>\n",
       "      <td>18.90</td>\n",
       "      <td>23384.10</td>\n",
       "      <td>33578</td>\n",
       "      <td>3090</td>\n",
       "      <td>6.19</td>\n",
       "      <td>723.48</td>\n",
       "      <td>28129</td>\n",
       "      <td>2293</td>\n",
       "      <td>83.77</td>\n",
       "      <td>74.21</td>\n",
       "    </tr>\n",
       "    <tr>\n",
       "      <th>...</th>\n",
       "      <td>...</td>\n",
       "      <td>...</td>\n",
       "      <td>...</td>\n",
       "      <td>...</td>\n",
       "      <td>...</td>\n",
       "      <td>...</td>\n",
       "      <td>...</td>\n",
       "      <td>...</td>\n",
       "      <td>...</td>\n",
       "      <td>...</td>\n",
       "      <td>...</td>\n",
       "      <td>...</td>\n",
       "    </tr>\n",
       "    <tr>\n",
       "      <th>2250</th>\n",
       "      <td>ZOTA</td>\n",
       "      <td>EQ</td>\n",
       "      <td>281.05</td>\n",
       "      <td>36.35</td>\n",
       "      <td>14410</td>\n",
       "      <td>125907</td>\n",
       "      <td>40.58</td>\n",
       "      <td>46.25</td>\n",
       "      <td>6972</td>\n",
       "      <td>26747</td>\n",
       "      <td>48.38</td>\n",
       "      <td>21.24</td>\n",
       "    </tr>\n",
       "    <tr>\n",
       "      <th>2251</th>\n",
       "      <td>ZUARI</td>\n",
       "      <td>EQ</td>\n",
       "      <td>177.90</td>\n",
       "      <td>5.35</td>\n",
       "      <td>120262</td>\n",
       "      <td>483295</td>\n",
       "      <td>215.10</td>\n",
       "      <td>26.42</td>\n",
       "      <td>64949</td>\n",
       "      <td>264997</td>\n",
       "      <td>54.01</td>\n",
       "      <td>54.83</td>\n",
       "    </tr>\n",
       "    <tr>\n",
       "      <th>2252</th>\n",
       "      <td>ZUARIIND</td>\n",
       "      <td>EQ</td>\n",
       "      <td>164.60</td>\n",
       "      <td>113.05</td>\n",
       "      <td>27431</td>\n",
       "      <td>12659</td>\n",
       "      <td>45.73</td>\n",
       "      <td>14.26</td>\n",
       "      <td>14019</td>\n",
       "      <td>-</td>\n",
       "      <td>51.11</td>\n",
       "      <td>-</td>\n",
       "    </tr>\n",
       "    <tr>\n",
       "      <th>2253</th>\n",
       "      <td>ZYDUSLIFE</td>\n",
       "      <td>EQ</td>\n",
       "      <td>420.60</td>\n",
       "      <td>379.10</td>\n",
       "      <td>1014645</td>\n",
       "      <td>42448106</td>\n",
       "      <td>4237.96</td>\n",
       "      <td>162522.23</td>\n",
       "      <td>468000</td>\n",
       "      <td>18592824</td>\n",
       "      <td>46.12</td>\n",
       "      <td>43.8</td>\n",
       "    </tr>\n",
       "    <tr>\n",
       "      <th>2254</th>\n",
       "      <td>ZYDUSWELL</td>\n",
       "      <td>EQ</td>\n",
       "      <td>1740.05</td>\n",
       "      <td>241.10</td>\n",
       "      <td>24808</td>\n",
       "      <td>325191</td>\n",
       "      <td>425.64</td>\n",
       "      <td>787.26</td>\n",
       "      <td>17464</td>\n",
       "      <td>114718</td>\n",
       "      <td>70.4</td>\n",
       "      <td>35.28</td>\n",
       "    </tr>\n",
       "  </tbody>\n",
       "</table>\n",
       "<p>2255 rows × 12 columns</p>\n",
       "</div>"
      ],
      "text/plain": [
       "          Symbol Series  ClosePrice12102022  ClosePrice13102022  \\\n",
       "0      20MICRONS     EQ               96.85              111.50   \n",
       "1     21STCENMGM     EQ               23.15               95.95   \n",
       "2      3IINFOLTD     EQ               42.35               23.30   \n",
       "3        3MINDIA     EQ            23684.00               42.60   \n",
       "4         3PLAND     EQ               18.90            23384.10   \n",
       "...          ...    ...                 ...                 ...   \n",
       "2250        ZOTA     EQ              281.05               36.35   \n",
       "2251       ZUARI     EQ              177.90                5.35   \n",
       "2252    ZUARIIND     EQ              164.60              113.05   \n",
       "2253   ZYDUSLIFE     EQ              420.60              379.10   \n",
       "2254   ZYDUSWELL     EQ             1740.05              241.10   \n",
       "\n",
       "      TotalTradedQuantity12102022  TotalTradedQuantity13102022  \\\n",
       "0                           88261                            1   \n",
       "1                            4557                        56206   \n",
       "2                          255269                         5194   \n",
       "3                            3038                       263245   \n",
       "4                           33578                         3090   \n",
       "...                           ...                          ...   \n",
       "2250                        14410                       125907   \n",
       "2251                       120262                       483295   \n",
       "2252                        27431                        12659   \n",
       "2253                      1014645                     42448106   \n",
       "2254                        24808                       325191   \n",
       "\n",
       "      TurnoverInLacs12102022  TurnoverInLacs13102022 DeliveryQuantity12102022  \\\n",
       "0                      85.70                    0.00                    44571   \n",
       "1                       1.06                   54.18                     3875   \n",
       "2                     108.93                    1.20                   154933   \n",
       "3                     715.59                  112.31                     1320   \n",
       "4                       6.19                  723.48                    28129   \n",
       "...                      ...                     ...                      ...   \n",
       "2250                   40.58                   46.25                     6972   \n",
       "2251                  215.10                   26.42                    64949   \n",
       "2252                   45.73                   14.26                    14019   \n",
       "2253                 4237.96               162522.23                   468000   \n",
       "2254                  425.64                  787.26                    17464   \n",
       "\n",
       "     DeliveryQuantity13102022 DeliveryPercentage12102022  \\\n",
       "0                           1                       50.5   \n",
       "1                       33265                      85.03   \n",
       "2                        1875                      60.69   \n",
       "3                      154224                      43.45   \n",
       "4                        2293                      83.77   \n",
       "...                       ...                        ...   \n",
       "2250                    26747                      48.38   \n",
       "2251                   264997                      54.01   \n",
       "2252                        -                      51.11   \n",
       "2253                 18592824                      46.12   \n",
       "2254                   114718                       70.4   \n",
       "\n",
       "     DeliveryPercentage13102022  \n",
       "0                           100  \n",
       "1                         59.18  \n",
       "2                          36.1  \n",
       "3                         58.59  \n",
       "4                         74.21  \n",
       "...                         ...  \n",
       "2250                      21.24  \n",
       "2251                      54.83  \n",
       "2252                          -  \n",
       "2253                       43.8  \n",
       "2254                      35.28  \n",
       "\n",
       "[2255 rows x 12 columns]"
      ]
     },
     "execution_count": 10,
     "metadata": {},
     "output_type": "execute_result"
    }
   ],
   "source": [
    "main_bhav_data"
   ]
  },
  {
   "cell_type": "code",
   "execution_count": 22,
   "metadata": {},
   "outputs": [],
   "source": [
    "# fetch today's bhav data file from nseindia.com\n",
    "today_bhav_data = pd.read_csv(source_url, names=column_names)"
   ]
  },
  {
   "cell_type": "code",
   "execution_count": null,
   "metadata": {},
   "outputs": [],
   "source": [
    "# Drop the unnecessary data from the new bhav file.\n",
    "today_bhav_data = today_bhav_data.drop(columns=['Date','PrevClose', 'OpenPrice', 'HighPrice', 'LowPrice', 'LastPrice', 'AvgPrice', 'NoOfTrades'])"
   ]
  },
  {
   "cell_type": "code",
   "execution_count": null,
   "metadata": {},
   "outputs": [],
   "source": [
    "# Drop the first row of the new bhav file.\n",
    "today_bhav_data = today_bhav_data.drop([0])"
   ]
  },
  {
   "cell_type": "code",
   "execution_count": null,
   "metadata": {},
   "outputs": [],
   "source": [
    "today_bhav_data"
   ]
  },
  {
   "cell_type": "code",
   "execution_count": 23,
   "metadata": {},
   "outputs": [
    {
     "data": {
      "text/plain": [
       "['ClosePrice13102022',\n",
       " 'TotalTradedQuantity13102022',\n",
       " 'TurnoverInLacs13102022',\n",
       " 'DeliveryQuantity13102022',\n",
       " 'DeliveryPercentage13102022']"
      ]
     },
     "execution_count": 23,
     "metadata": {},
     "output_type": "execute_result"
    }
   ],
   "source": [
    "# setup the column names for yesterday's data from the main bhav data file.\n",
    "header_main = ['ClosePrice'+yesterday, 'TotalTradedQuantity'+yesterday, 'TurnoverInLacs'+yesterday, 'DeliveryQuantity'+yesterday, 'DeliveryPercentage'+yesterday]\n",
    "header_main"
   ]
  },
  {
   "cell_type": "code",
   "execution_count": 26,
   "metadata": {},
   "outputs": [
    {
     "data": {
      "text/plain": [
       "['ClosePrice14102022',\n",
       " 'TotalTradedQuantity14102022',\n",
       " 'TurnoverInLacs14102022',\n",
       " 'DeliveryQuantity14102022',\n",
       " 'DeliveryPercentage14102022']"
      ]
     },
     "execution_count": 26,
     "metadata": {},
     "output_type": "execute_result"
    }
   ],
   "source": [
    "# setup the column names for today's data from the nseindia.com\n",
    "header_new = ['ClosePrice'+today, 'TotalTradedQuantity'+today, 'TurnoverInLacs'+today, 'DeliveryQuantity'+today, 'DeliveryPercentage'+today]\n",
    "header_new"
   ]
  },
  {
   "cell_type": "code",
   "execution_count": null,
   "metadata": {},
   "outputs": [],
   "source": [
    "# extract the new data and paste to the main bhav data file.\n",
    "for i in range(5):\n",
    "    new_head = header_new[i]\n",
    "    prev_head = main_bhav_data.columns.get_loc(header_main[i]) + 1\n",
    "\n",
    "    extracted_col = today_bhav_data[new_head]\n",
    "    main_bhav_data.insert(prev_head, new_head, extracted_col)\n",
    "    print(extracted_col)\n",
    "    print()"
   ]
  },
  {
   "cell_type": "code",
   "execution_count": null,
   "metadata": {},
   "outputs": [],
   "source": [
    "main_bhav_data"
   ]
  },
  {
   "cell_type": "code",
   "execution_count": null,
   "metadata": {},
   "outputs": [],
   "source": [
    "# Write the new data to main csv file.\n",
    "main_bhav_data.to_csv('nse_data_file.csv', index=False)"
   ]
  }
 ],
 "metadata": {
  "kernelspec": {
   "display_name": "Python 3.10.5 64-bit",
   "language": "python",
   "name": "python3"
  },
  "language_info": {
   "codemirror_mode": {
    "name": "ipython",
    "version": 3
   },
   "file_extension": ".py",
   "mimetype": "text/x-python",
   "name": "python",
   "nbconvert_exporter": "python",
   "pygments_lexer": "ipython3",
   "version": "3.10.5"
  },
  "orig_nbformat": 4,
  "vscode": {
   "interpreter": {
    "hash": "a9cff5a362bc38ef45d817ae74b1af54d6a076e3d773891282bce078b815ba34"
   }
  }
 },
 "nbformat": 4,
 "nbformat_minor": 2
}
