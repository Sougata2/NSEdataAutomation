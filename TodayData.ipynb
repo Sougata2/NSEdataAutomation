{
 "cells": [
  {
   "cell_type": "code",
   "execution_count": 1,
   "metadata": {},
   "outputs": [],
   "source": [
    "import datetime\n",
    "import requests\n",
    "import pandas as pd"
   ]
  },
  {
   "cell_type": "code",
   "execution_count": 2,
   "metadata": {},
   "outputs": [],
   "source": [
    "companies = ['RELIANCE', 'BAJAJFINSV', 'HDFCBANK', 'HDFC', 'ITC', 'INFY', 'ADANIPORTS', 'ICICIBANK', 'BAJFINANCE', 'TCS', 'KOTAKBANK', 'LT', 'AXISBANK', 'MARUTI', 'SBIN', 'TATAMOTORS', 'TATASTEEL', 'HINDALCO', 'BHARTIARTL', 'NTPC', 'EICHERMOT', 'APOLLOHOSP', 'M&N', 'INDUSINDBK', 'ASIANPAINT', 'HINDUNILVR', 'ONGC', 'BAJAJ-AUTO', 'HEROMOTOCO', 'TITAN', 'WIPRO', 'HDFCLIFE', 'SHREECEM', 'ULTRACEMCO', 'TECHM', 'SUNPHARMA', 'CIPLA', 'HCLTECH', 'TATACONSUM', 'BPCL', 'UPL', 'SBILIFE', 'JSWSTEEL', 'POWERGRID', 'DIVISLAB', 'COALINDIA', 'GRASIM', 'DRREDDY', 'BRITANNIA', 'MESTLEIND']"
   ]
  },
  {
   "cell_type": "code",
   "execution_count": 3,
   "metadata": {},
   "outputs": [],
   "source": [
    "# set up today and yesterday\n",
    "current_date = datetime.date.today()\n",
    "today = current_date.strftime(\"%d%m%Y\")\n",
    "# today = '14102022'\n",
    "\n",
    "\n",
    "yesterday = current_date - datetime.timedelta(days=1)\n",
    "yesterday = yesterday.strftime('%d%m%Y')\n",
    "# yesterday = '13102022'\n"
   ]
  },
  {
   "cell_type": "code",
   "execution_count": null,
   "metadata": {},
   "outputs": [],
   "source": [
    "# source file name and base url for the source url\n",
    "source_file_name = 'sec_bhavdata_full_{}.csv'\n",
    "base_url = r'https://archives.nseindia.com/products/content/'"
   ]
  },
  {
   "cell_type": "code",
   "execution_count": null,
   "metadata": {},
   "outputs": [],
   "source": [
    "main_bhav_data = pd.read_csv('nse_data_file.csv')"
   ]
  },
  {
   "cell_type": "code",
   "execution_count": null,
   "metadata": {},
   "outputs": [],
   "source": [
    "main_bhav_data"
   ]
  },
  {
   "cell_type": "code",
   "execution_count": null,
   "metadata": {},
   "outputs": [],
   "source": [
    "# source url to fetch data from nseIndia.com for new data.\n",
    "source_url = base_url+source_file_name.format(today)\n",
    "\n",
    "# setup the column names of the new file\n",
    "column_names = ['Symbol', 'Series', 'Date', 'PrevClose', 'OpenPrice', 'HighPrice', 'LowPrice', 'LastPrice', 'ClosePrice'+today, 'AvgPrice', 'TotalTradedQuantity'+today, 'TurnoverInLacs'+today, 'NoOfTrades', 'DeliveryQuantity'+today, 'DeliveryPercentage'+today]\n",
    "\n",
    "# fetch today's bhav data file from nseindia.com\n",
    "today_bhav_data = pd.read_csv(source_url, names=column_names)\n",
    "\n",
    "# filtering the today's data\n",
    "today_bhav_data = today_bhav_data.drop(columns=['Date','PrevClose', 'OpenPrice', 'HighPrice', 'LowPrice', 'LastPrice', 'AvgPrice', 'NoOfTrades'])\n",
    "today_bhav_data = today_bhav_data.loc[today_bhav_data['Symbol'].isin(companies)]\n",
    "\n",
    "company_count = {}\n",
    "for company in companies:\n",
    "    company_count[company] = 0\n",
    "\n",
    "is_valid = [0 for _ in today_bhav_data.index]\n",
    "\n",
    "today_bhav_data.insert(1, 'is_valid', is_valid)\n",
    "\n",
    "for ind in today_bhav_data.index:\n",
    "    company = today_bhav_data.at[ind, 'Symbol']\n",
    "    if not company_count[company]:\n",
    "        company_count[company] = 1\n",
    "        today_bhav_data.at[ind, 'is_valid'] = 1\n",
    "\n",
    "today_bhav_data = today_bhav_data.loc[today_bhav_data['is_valid'] == 1]\n",
    "\n",
    "today_bhav_data.to_csv('temp_nse_data.csv', index=False)"
   ]
  },
  {
   "cell_type": "code",
   "execution_count": null,
   "metadata": {},
   "outputs": [],
   "source": [
    "today_bhav_data = pd.read_csv('temp_nse_data.csv')\n",
    "today_bhav_data"
   ]
  },
  {
   "cell_type": "code",
   "execution_count": null,
   "metadata": {},
   "outputs": [],
   "source": [
    "# setup the column names for yesterday's data from the main bhav data file.\n",
    "header_main = ['ClosePrice'+yesterday, 'TotalTradedQuantity'+yesterday, 'TurnoverInLacs'+yesterday, 'DeliveryQuantity'+yesterday, 'DeliveryPercentage'+yesterday]\n",
    "header_main\n",
    "\n",
    "# setup the column names for today's data from the nseindia.com\n",
    "header_new = ['ClosePrice'+today, 'TotalTradedQuantity'+today, 'TurnoverInLacs'+today, 'DeliveryQuantity'+today, 'DeliveryPercentage'+today]\n",
    "header_new\n",
    "\n",
    "\n",
    "# extract the new data and paste to the main bhav data file.\n",
    "for i in range(5):\n",
    "    new_head = header_new[i]\n",
    "    prev_head = main_bhav_data.columns.get_loc(header_main[i]) + 1\n",
    "\n",
    "    extracted_col = today_bhav_data[new_head]\n",
    "    main_bhav_data.insert(prev_head, new_head, extracted_col)"
   ]
  },
  {
   "cell_type": "code",
   "execution_count": null,
   "metadata": {},
   "outputs": [],
   "source": [
    "main_bhav_data"
   ]
  },
  {
   "cell_type": "code",
   "execution_count": null,
   "metadata": {},
   "outputs": [],
   "source": [
    "main_bhav_data.to_csv('nse_data_file.csv', index=False)"
   ]
  },
  {
   "cell_type": "code",
   "execution_count": null,
   "metadata": {},
   "outputs": [],
   "source": []
  },
  {
   "cell_type": "code",
   "execution_count": null,
   "metadata": {},
   "outputs": [],
   "source": []
  }
 ],
 "metadata": {
  "kernelspec": {
   "display_name": "Python 3.10.5 64-bit",
   "language": "python",
   "name": "python3"
  },
  "language_info": {
   "codemirror_mode": {
    "name": "ipython",
    "version": 3
   },
   "file_extension": ".py",
   "mimetype": "text/x-python",
   "name": "python",
   "nbconvert_exporter": "python",
   "pygments_lexer": "ipython3",
   "version": "3.10.5"
  },
  "orig_nbformat": 4,
  "vscode": {
   "interpreter": {
    "hash": "a9cff5a362bc38ef45d817ae74b1af54d6a076e3d773891282bce078b815ba34"
   }
  }
 },
 "nbformat": 4,
 "nbformat_minor": 2
}
